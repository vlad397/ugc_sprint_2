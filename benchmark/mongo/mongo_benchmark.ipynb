{
 "cells": [
  {
   "cell_type": "code",
   "execution_count": 18,
   "id": "6b8cf4d6",
   "metadata": {},
   "outputs": [
    {
     "name": "stdout",
     "output_type": "stream",
     "text": [
      "Stopping mongodb_container ... \n",
      "\u001b[1Bping mongodb_container ... \u001b[32mdone\u001b[0mRemoving mongodb_container ... \n",
      "\u001b[1BRemoving network mongo_default2mdone\u001b[0m\n"
     ]
    }
   ],
   "source": [
    "!docker-compose down"
   ]
  },
  {
   "cell_type": "code",
   "execution_count": 1,
   "id": "a085c1db",
   "metadata": {},
   "outputs": [
    {
     "name": "stdout",
     "output_type": "stream",
     "text": [
      "Creating network \"mongo_default\" with the default driver\n",
      "Creating mongodb_container ... \n",
      "\u001b[1Bting mongodb_container ... \u001b[32mdone\u001b[0m"
     ]
    }
   ],
   "source": [
    "!docker-compose up -d"
   ]
  },
  {
   "cell_type": "code",
   "execution_count": 2,
   "id": "283e22b0",
   "metadata": {},
   "outputs": [
    {
     "name": "stdout",
     "output_type": "stream",
     "text": [
      "\u001b]0;mongosh mongodb://127.0.0.1:27017/?directConnection=true&serverSelectionTimeoutMS=2000\u0007Current Mongosh Log ID:\t62cc4a81a762168fcce6fb63\n",
      "Connecting to:\t\t\u001b[1m\u001b[32mmongodb://127.0.0.1:27017/?directConnection=true&serverSelectionTimeoutMS=2000&appName=mongosh+1.5.0\u001b[0m\n",
      "Using MongoDB:\t\t5.0.9\n",
      "\u001b[1m\u001b[33mUsing Mongosh\u001b[0m:\t\t1.5.0\n",
      "\n",
      "For mongosh info see: \u001b[1mhttps://docs.mongodb.com/mongodb-shell/\u001b[0m\n",
      "\n",
      "\u001b[1G\u001b[0J \u001b[1G\u001b[1m\u001b[33m------\u001b[0m\n",
      "   \u001b[1m\u001b[33mThe server generated these startup warnings when booting\u001b[0m\n",
      "   2022-07-11T16:06:24.677+00:00: Using the XFS filesystem is strongly recommended with the WiredTiger storage engine. See http://dochub.mongodb.org/core/prodnotes-filesystem\n",
      "   2022-07-11T16:06:25.254+00:00: Access control is not enabled for the database. Read and write access to data and configuration is unrestricted\n",
      "\u001b[1m\u001b[33m------\u001b[0m\n",
      "\n",
      "\u001b[1m\u001b[33m------\u001b[0m\n",
      "   Enable MongoDB's free cloud-based monitoring service, which will then receive and display\n",
      "   metrics about your deployment (disk utilization, CPU, operation statistics, etc).\n",
      "   \n",
      "   The monitoring data will be available on a MongoDB website with a unique URL accessible to you\n",
      "   and anyone you share the URL with. MongoDB may use this information to make product\n",
      "   improvements and to suggest MongoDB products and deployment options to you.\n",
      "   \n",
      "   To enable free monitoring, run the following command: db.enableFreeMonitoring()\n",
      "   To permanently disable this reminder, run the following command: db.disableFreeMonitoring()\n",
      "\u001b[1m\u001b[33m------\u001b[0m\n",
      "\n",
      "\u001b[1G\u001b[0Jtest> \u001b[7Gco\u001b[36mconst\u001b[39m dbname = \u001b[32m\"\u001b[39m\u001b[32md\u001b[39m\u001b[32me\u001b[39m\u001b[32mf\u001b[39m\u001b[32ma\u001b[39m\u001b[32mu\u001b[39m\u001b[32ml\u001b[39m\u001b[32mt\u001b[39m\u001b[32m\"\u001b[39m;\n",
      "\n",
      "\u001b[1G\u001b[0Jtest> \u001b[7Gco\u001b[36mconst\u001b[39m conn = \u001b[36mnew\u001b[39m Mongo();\n",
      "\n",
      "\u001b[1G\u001b[0Jtest> \u001b[7Gco\u001b[36mconst\u001b[39m database = conn.getDB(dbname);\n",
      "\n",
      "\u001b[1G\u001b[0Jtest> \u001b[7G\n",
      "\n",
      "\u001b[1G\u001b[0Jtest> \u001b[7Grating_db = \u001b[32m\"\u001b[39m\u001b[32mr\u001b[39m\u001b[32ma\u001b[39m\u001b[32mt\u001b[39m\u001b[32mi\u001b[39m\u001b[32mn\u001b[39m\u001b[32mg\u001b[39m\u001b[32m\"\u001b[39m;\n",
      "rating\n",
      "\u001b[1G\u001b[0Jtest> \u001b[7Gdatabase.createCollection(rating_db);\n",
      "\u001b[1m\u001b[31mMongoServerError\u001b[0m: Collection already exists. NS: default.rating\n",
      "\u001b[1G\u001b[0Jtest> \u001b[7Gdatabase[rating_db].createIndex({[\u001b[32m\"\u001b[39m\u001b[32mu\u001b[39m\u001b[32ms\u001b[39m\u001b[32me\u001b[39m\u001b[32mr\u001b[39m\u001b[32m_\u001b[39m\u001b[32mi\u001b[39m\u001b[32md\u001b[39m\u001b[32m\"\u001b[39m]: \u001b[33m-1\u001b[39m});\n",
      "user_id_-1\n",
      "\u001b[1G\u001b[0Jtest> \u001b[7Gdatabase[rating_db].createIndex({[\u001b[32m\"\u001b[39m\u001b[32mf\u001b[39m\u001b[32mi\u001b[39m\u001b[32ml\u001b[39m\u001b[32mm\u001b[39m\u001b[32m_\u001b[39m\u001b[32mi\u001b[39m\u001b[32md\u001b[39m\u001b[32m\"\u001b[39m]: \u001b[33m-1\u001b[39m});\n",
      "film_id_-1\n",
      "\u001b[1G\u001b[0Jtest> \u001b[7Gdatabase[rating_db].createIndex({[\u001b[32m\"\u001b[39m\u001b[32ms\u001b[39m\u001b[32mc\u001b[39m\u001b[32mo\u001b[39m\u001b[32mr\u001b[39m\u001b[32me\u001b[39m\u001b[32m\"\u001b[39m]: \u001b[33m-1\u001b[39m});\n",
      "score_-1\n",
      "\u001b[1G\u001b[0Jtest> \u001b[7G\n",
      "\n",
      "\u001b[1G\u001b[0Jtest> \u001b[7Greview_db = \u001b[32m\"\u001b[39m\u001b[32mb\u001b[39m\u001b[32mo\u001b[39m\u001b[32mo\u001b[39m\u001b[32mk\u001b[39m\u001b[32mm\u001b[39m\u001b[32ma\u001b[39m\u001b[32mr\u001b[39m\u001b[32mk\u001b[39m\u001b[32m\"\u001b[39m;\n",
      "bookmark\n",
      "\u001b[1G\u001b[0Jtest> \u001b[7Gdatabase.createCollection(review_db);\n",
      "\u001b[1m\u001b[31mMongoServerError\u001b[0m: Collection already exists. NS: default.bookmark\n",
      "\u001b[1G\u001b[0Jtest> \u001b[7Gdatabase[review_db].createIndex({[\u001b[32m\"\u001b[39m\u001b[32mu\u001b[39m\u001b[32ms\u001b[39m\u001b[32me\u001b[39m\u001b[32mr\u001b[39m\u001b[32m_\u001b[39m\u001b[32mi\u001b[39m\u001b[32md\u001b[39m\u001b[32m\"\u001b[39m]: \u001b[33m-1\u001b[39m});\n",
      "user_id_-1\n",
      "\u001b[1G\u001b[0Jtest> \u001b[7Gdatabase[review_db].createIndex({[\u001b[32m\"\u001b[39m\u001b[32mf\u001b[39m\u001b[32mi\u001b[39m\u001b[32ml\u001b[39m\u001b[32mm\u001b[39m\u001b[32m_\u001b[39m\u001b[32mi\u001b[39m\u001b[32md\u001b[39m\u001b[32m\"\u001b[39m]: \u001b[33m-1\u001b[39m});\n",
      "film_id_-1\n",
      "\u001b[1G\u001b[0Jtest> \u001b[7G"
     ]
    }
   ],
   "source": [
    "!docker exec -it mongodb_container bash -c \"cat /scripts/init_db.js | mongosh\""
   ]
  },
  {
   "cell_type": "code",
   "execution_count": 3,
   "id": "fcd684e9",
   "metadata": {},
   "outputs": [],
   "source": [
    "from pymongo import MongoClient\n",
    "uri = 'mongodb://localhost:27017/'\n",
    "client = MongoClient(uri)\n",
    "db = client.get_database(\"default\")"
   ]
  },
  {
   "cell_type": "code",
   "execution_count": 4,
   "id": "380e270f",
   "metadata": {},
   "outputs": [],
   "source": [
    "import time\n",
    "import statistics\n",
    "\n",
    "class profile_code():\n",
    "    def __init__(self):\n",
    "        self.start = time.time()\n",
    "        self.all_durations = []\n",
    "        \n",
    "    def setup_start_time(self):\n",
    "        self.start = time.time()\n",
    "\n",
    "    def checkpoint(self):\n",
    "        end_time = time.time()\n",
    "        self.all_durations.append(end_time - self.start)\n",
    "        self.start = end_time\n",
    "\n",
    "    def __enter__(self):\n",
    "        return self\n",
    "\n",
    "    def __exit__(self, type, value, traceback):\n",
    "        print(f\"Median - {statistics.median(self.all_durations)}\")\n",
    "        print(f\"Average - {statistics.mean(self.all_durations)}\")\n",
    "        print(f\"Summary - {sum(self.all_durations)}\")"
   ]
  },
  {
   "cell_type": "code",
   "execution_count": 5,
   "id": "508c9b6d",
   "metadata": {},
   "outputs": [],
   "source": [
    "# Score from user"
   ]
  },
  {
   "cell_type": "code",
   "execution_count": 6,
   "id": "547b3ba1",
   "metadata": {},
   "outputs": [],
   "source": [
    "import uuid\n",
    "from faker import Faker\n",
    "import random\n",
    "\n",
    "def generate_rating(num_rows_per_chunk: int, iteration: int):\n",
    "    chunk = []\n",
    "    fake = Faker()\n",
    "\n",
    "    for i in range(iteration*num_rows_per_chunk):\n",
    "        chunk.append(\n",
    "            {\n",
    "                '_id': str(uuid.uuid4()),\n",
    "                'user_id': str(uuid.uuid4()),\n",
    "                'film_id': str(uuid.uuid4()),\n",
    "                'score': random.randint(0, 9),\n",
    "                'event_time': fake.date_time_between()\n",
    "            }\n",
    "        )\n",
    "\n",
    "        if len(chunk) == num_rows_per_chunk:\n",
    "            yield chunk\n",
    "            chunk = []"
   ]
  },
  {
   "cell_type": "code",
   "execution_count": 7,
   "id": "f68d45af",
   "metadata": {},
   "outputs": [
    {
     "name": "stdout",
     "output_type": "stream",
     "text": [
      "Median - 0.01317298412322998\n",
      "Average - 0.015365281462669373\n",
      "Summary - 30.730562925338745\n"
     ]
    }
   ],
   "source": [
    "# Insert chunks of 500\n",
    "rating = db.get_collection('rating')\n",
    "rating.delete_many({})\n",
    "\n",
    "with profile_code() as profiler:\n",
    "    for chunk in generate_rating(500, 2000):\n",
    "        profiler.setup_start_time()\n",
    "        rating.insert_many(chunk)\n",
    "        profiler.checkpoint()"
   ]
  },
  {
   "cell_type": "code",
   "execution_count": 8,
   "id": "edf4105b",
   "metadata": {},
   "outputs": [
    {
     "name": "stdout",
     "output_type": "stream",
     "text": [
      "Median - 0.0009522438049316406\n",
      "Average - 0.001004459023475647\n",
      "Summary - 2.008918046951294\n"
     ]
    }
   ],
   "source": [
    "# Insert one record\n",
    "rating = db.get_collection('rating')\n",
    "with profile_code() as profiler:\n",
    "    for chunk in generate_rating(1, 2000):\n",
    "        profiler.setup_start_time()\n",
    "        rating.insert_one(chunk[0])\n",
    "        profiler.checkpoint()"
   ]
  },
  {
   "cell_type": "code",
   "execution_count": 9,
   "id": "636b3d13",
   "metadata": {},
   "outputs": [],
   "source": [
    "# Bookmarks"
   ]
  },
  {
   "cell_type": "code",
   "execution_count": 10,
   "id": "1cd7a21b",
   "metadata": {},
   "outputs": [],
   "source": [
    "import uuid\n",
    "from faker import Faker\n",
    "import random\n",
    "\n",
    "def generate_bookmarks(num_rows_per_chunk: int, iteration: int):\n",
    "    chunk = []\n",
    "    fake = Faker()\n",
    "\n",
    "    for i in range(iteration*num_rows_per_chunk):\n",
    "        chunk.append(\n",
    "            {\n",
    "                '_id': str(uuid.uuid4()),\n",
    "                'user_id': str(uuid.uuid4()),\n",
    "                'film_id': str(uuid.uuid4()),\n",
    "                'bookmark': random.randint(0, 10000000),\n",
    "                'event_time': fake.date_time_between()\n",
    "            }\n",
    "        )\n",
    "\n",
    "        if len(chunk) == num_rows_per_chunk:\n",
    "            yield chunk\n",
    "            chunk = []"
   ]
  },
  {
   "cell_type": "code",
   "execution_count": 11,
   "id": "fb05d4cb",
   "metadata": {},
   "outputs": [
    {
     "name": "stdout",
     "output_type": "stream",
     "text": [
      "Median - 0.01306307315826416\n",
      "Average - 0.014295762419700623\n",
      "Summary - 28.591524839401245\n"
     ]
    }
   ],
   "source": [
    "# Insert chunks of 500\n",
    "bookmark = db.get_collection('bookmark')\n",
    "bookmark.delete_many({})\n",
    "\n",
    "with profile_code() as profiler:\n",
    "    for chunk in generate_bookmarks(500, 2000):\n",
    "        profiler.setup_start_time()\n",
    "        bookmark.insert_many(chunk)\n",
    "        profiler.checkpoint()"
   ]
  },
  {
   "cell_type": "code",
   "execution_count": 12,
   "id": "a730731a",
   "metadata": {},
   "outputs": [
    {
     "name": "stdout",
     "output_type": "stream",
     "text": [
      "Median - 0.0009744167327880859\n",
      "Average - 0.001048288345336914\n",
      "Summary - 2.096576690673828\n"
     ]
    }
   ],
   "source": [
    "# Insert one record\n",
    "bookmark = db.get_collection('bookmark')\n",
    "\n",
    "with profile_code() as profiler:\n",
    "    for chunk in generate_bookmarks(1, 2000):\n",
    "        profiler.setup_start_time()\n",
    "        bookmark.insert_one(chunk[0])\n",
    "        profiler.checkpoint()"
   ]
  },
  {
   "cell_type": "code",
   "execution_count": 13,
   "id": "4b029053",
   "metadata": {},
   "outputs": [],
   "source": [
    "# Average film score"
   ]
  },
  {
   "cell_type": "code",
   "execution_count": 14,
   "id": "7eb0e8fb",
   "metadata": {},
   "outputs": [
    {
     "name": "stdout",
     "output_type": "stream",
     "text": [
      "Median - 0.9462798833847046\n",
      "Average - 0.962671811580658\n",
      "Summary - 96.2671811580658\n"
     ]
    }
   ],
   "source": [
    "rating = db.get_collection('rating')\n",
    "records = rating.find().limit(100)\n",
    "with profile_code() as profiler:\n",
    "    for r in records:\n",
    "        profiler.setup_start_time()\n",
    "        rating.aggregate([{\"$group\": {\"_id\":r[\"_id\"], \"avg_val\":{\"$avg\":\"$score\"}}}])\n",
    "        profiler.checkpoint()"
   ]
  },
  {
   "cell_type": "code",
   "execution_count": 15,
   "id": "4bd58035",
   "metadata": {},
   "outputs": [],
   "source": [
    "# Real-time selecting and inserting"
   ]
  },
  {
   "cell_type": "code",
   "execution_count": 26,
   "id": "6ea60212",
   "metadata": {},
   "outputs": [
    {
     "name": "stdout",
     "output_type": "stream",
     "text": [
      "Median - 0.0009720325469970703\n",
      "Average - 0.001012405753135681\n",
      "Summary - 2.0248115062713623\n"
     ]
    }
   ],
   "source": [
    "rating = db.get_collection('rating')\n",
    "num_records = []\n",
    "with profile_code() as profiler:\n",
    "    for chunk in generate_rating(1, 2000):\n",
    "        rating.insert_many(chunk)\n",
    "        random_record = rating.find().limit(1)[0]\n",
    "        profiler.setup_start_time()\n",
    "        res = rating.find({\"film_id\": random_record[\"film_id\"]})\n",
    "        data = [r for r in res]\n",
    "        profiler.checkpoint()"
   ]
  },
  {
   "cell_type": "code",
   "execution_count": null,
   "id": "52398af1",
   "metadata": {},
   "outputs": [],
   "source": []
  }
 ],
 "metadata": {
  "kernelspec": {
   "display_name": "Python 3 (ipykernel)",
   "language": "python",
   "name": "python3"
  },
  "language_info": {
   "codemirror_mode": {
    "name": "ipython",
    "version": 3
   },
   "file_extension": ".py",
   "mimetype": "text/x-python",
   "name": "python",
   "nbconvert_exporter": "python",
   "pygments_lexer": "ipython3",
   "version": "3.8.9"
  }
 },
 "nbformat": 4,
 "nbformat_minor": 5
}
